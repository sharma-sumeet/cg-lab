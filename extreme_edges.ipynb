{
 "cells": [
  {
   "cell_type": "code",
   "execution_count": 25,
   "metadata": {},
   "outputs": [],
   "source": [
    "import string\n",
    "import numpy as np\n",
    "import matplotlib.pyplot as plt\n",
    "import copy\n",
    "class Point:\n",
    "    \"\"\" Point Class \"\"\"\n",
    " \n",
    "    def __init__(self, xcoord, ycoord):\n",
    "        self.x = xcoord\n",
    "        self.y = ycoord\n",
    "        \n",
    "    def __init__(self,tup):\n",
    "        self.x=tup[0]\n",
    "        self.y=tup[1]\n",
    " \n",
    "    @classmethod\n",
    "    def input_point(point):\n",
    "        \"\"\" Takes X-Coord and Y-Coord from user to form a point \"\"\"\n",
    "        return point(\n",
    "            int(input('  X-Coord: ')),\n",
    "            int(input('  Y-Coord: ')),\n",
    "        )\n",
    " \n",
    "    def __str__(self):\n",
    "        \"\"\" Displays point's coordinates \"\"\"\n",
    "        return \"(\" + str(self.x) + \", \" + str(self.y) + \")\"\n"
   ]
  },
  {
   "cell_type": "code",
   "execution_count": 26,
   "metadata": {},
   "outputs": [],
   "source": [
    "def dir(A,B,P):\n",
    "    #print(A,B,P)\n",
    "    c=copy.deepcopy(B)\n",
    "    d=copy.deepcopy(P)\n",
    "    c.x -= A.x \n",
    "    c.y -= A.y \n",
    "    d.x -= A.x \n",
    "    d.y -= A.y \n",
    "    #print(c,d)\n",
    "    ' Determining cross Product '\n",
    "    cross_product = c.x * d.y - c.y * d.x  \n",
    "    #print(cross_product)\n",
    "    if (cross_product > 0): \n",
    "        return 1\n",
    "    elif (cross_product < 0): \n",
    "        return -1\n",
    "    else:\n",
    "        return 0\n"
   ]
  },
  {
   "cell_type": "code",
   "execution_count": 27,
   "metadata": {},
   "outputs": [
    {
     "name": "stdout",
     "output_type": "stream",
     "text": [
      "55\n",
      "[(0, 7), (0, 7), (5, 3), (5, 3), (37, 1), (37, 1), (45, 1), (45, 1), (49, 24), (49, 24), (50, 41), (50, 41), (50, 50), (50, 50), (7, 48), (7, 48), (2, 43), (2, 43), (0, 32), (0, 32)]\n"
     ]
    },
    {
     "data": {
      "image/png": "[encoded data removed]",
      "text/plain": [
       "<Figure size 432x288 with 1 Axes>"
      ]
     },
     "metadata": {
      "needs_background": "light"
     },
     "output_type": "display_data"
    }
   ],
   "source": [
    "import math\n",
    "i=0\n",
    "j=0\n",
    "k=0\n",
    "l=0\n",
    "infile=open('polyquery.txt', 'r')\n",
    "cord = infile.read().split(' ')\n",
    "cord = list(map(int, cord))\n",
    "non_ext=[]\n",
    "points=[tuple(cord[z: z + 2]) for z in range(0, len(cord), 2)]\n",
    "#print(len(points))\n",
    "for i in range (0,len(points)):\n",
    "    Pi=Point(points[i])\n",
    "    for j in range (0,len(points)):\n",
    "        Pj=Point(points[j])\n",
    "        for k in range (0,len(points)):\n",
    "            if k==j or k==i:\n",
    "                continue\n",
    "            Pk=Point(points[k])\n",
    "            Pl=Point(points[l])\n",
    "            a=copy.deepcopy(Pi)\n",
    "            b=copy.deepcopy(Pj)\n",
    "            c=copy.deepcopy(Pk) \n",
    "            if dir(a,b,c)==0:\n",
    "                    continue\n",
    "            elif dir(a,b,c)==1:\n",
    "                    continue\n",
    "            else:\n",
    "                    non_ext.append(points[i])\n",
    "                    non_ext.append(points[j])\n",
    "                \n",
    "#print(non_ext)\n",
    "import itertools\n",
    "a=[]                                   \n",
    "for i in itertools.product(points,points):\n",
    "    if i[0]==i[1]:\n",
    "        continue\n",
    "    a.append(i)\n",
    "b=[tuple(non_ext[z: z + 2]) for z in range(0, len(non_ext), 2)]\n",
    "set1 = set(a)\n",
    "set2 = set(b)\n",
    "pp=list(set1.difference(set2))\n",
    "print(pp)\n",
    "pp=[item for t in pp for item in t]\n",
    "#print (pp)\n",
    "cent=(sum([p[0] for p in pp])/len(pp),sum([p[1] for p in pp])/len(pp))\n",
    "# sort by polar angle\n",
    "pp.sort(key=lambda p: math.atan2(p[1]-cent[1],p[0]-cent[0]))\n",
    "print (pp)\n",
    "convex_hull=copy.deepcopy(pp)\n",
    "convex_hull.append(convex_hull[0])\n",
    "xs, ys = zip(*convex_hull) #create lists of x and y values\n",
    "plt.figure()\n",
    "plt.plot(xs,ys)\n",
    "for item in points:\n",
    "    plt.plot([item[0]],[item[1]],marker='o', markersize=3, color=\"red\")\n",
    "plt.show()\n"
   ]
  },
  {
   "cell_type": "code",
   "execution_count": null,
   "metadata": {},
   "outputs": [],
   "source": []
  },
  {
   "cell_type": "code",
   "execution_count": null,
   "metadata": {},
   "outputs": [],
   "source": []
  }
 ],
 "metadata": {
  "kernelspec": {
   "display_name": "Python 3",
   "language": "python",
   "name": "python3"
  },
  "language_info": {
   "codemirror_mode": {
    "name": "ipython",
    "version": 3
   },
   "file_extension": ".py",
   "mimetype": "text/x-python",
   "name": "python",
   "nbconvert_exporter": "python",
   "pygments_lexer": "ipython3",
   "version": "3.7.3"
  }
 },
 "nbformat": 4,
 "nbformat_minor": 2
}
