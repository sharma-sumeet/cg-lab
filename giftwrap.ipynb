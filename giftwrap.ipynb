{
 "cells": [
  {
   "cell_type": "code",
   "execution_count": 3,
   "metadata": {},
   "outputs": [],
   "source": [
    "import math\n",
    "def dot(vA, vB):\n",
    "    return vA[0]*vB[0]+vA[1]*vB[1]\n",
    "def ang(A,B,C):\n",
    "    # Get nicer vector form\n",
    "    vA = [(B[0]-A[0]), (B[1]-A[1])]\n",
    "    vB = [(C[0]-B[0]), (C[1]-B[1])]\n",
    "    # Get dot prod\n",
    "    dot_prod = dot(vA, vB)\n",
    "    # Get magnitudes\n",
    "    magA = dot(vA, vA)**0.5\n",
    "    magB = dot(vB, vB)**0.5\n",
    "    # Get cosine value\n",
    "    cos_ = round(dot_prod/(magA*magB),4)\n",
    "    #print (cos_)\n",
    "    # Get angle in radians and then convert to degrees\n",
    "    \n",
    "    angle = math.acos(cos_)\n",
    "    # Basically doing angle <- angle mod 360\n",
    "    ang_deg = math.degrees(angle)%360\n",
    "\n",
    "    return ang_deg"
   ]
  },
  {
   "cell_type": "code",
   "execution_count": 5,
   "metadata": {},
   "outputs": [
    {
     "name": "stdout",
     "output_type": "stream",
     "text": [
      "[(37, 1), (45, 1), (49, 24), (50, 41), (50, 50), (7, 48), (2, 43), (0, 32), (0, 7), (5, 3), (37, 1)]\n"
     ]
    },
    {
     "data": {
      "image/png": "[encoded data removed]",
      "text/plain": [
       "<Figure size 432x288 with 1 Axes>"
      ]
     },
     "metadata": {
      "needs_background": "light"
     },
     "output_type": "display_data"
    }
   ],
   "source": [
    "import copy\n",
    "import math\n",
    "import numpy as np\n",
    "import matplotlib.pyplot as plt\n",
    "flag=1\n",
    "l=[]\n",
    "infile=open('polyquery.txt', 'r')\n",
    "cord = infile.read().split(' ')\n",
    "cord = list(map(int, cord))\n",
    "points=[tuple(cord[z: z + 2]) for z in range(0, len(cord), 2)]\n",
    "m=min(points, key = lambda t: t[1])\n",
    "while (flag==1):\n",
    "    min_angle=360\n",
    "    min_point=m\n",
    "    l.append(m)\n",
    "    for i in points:\n",
    "        if i==m:\n",
    "            continue\n",
    "        if len(l)==1:\n",
    "            a=(-100,m[1])\n",
    "            b=copy.deepcopy(m)\n",
    "            c=copy.deepcopy(i)\n",
    "        else:\n",
    "            a=copy.deepcopy(l[-2])\n",
    "            b=copy.deepcopy(m)\n",
    "            c=copy.deepcopy(i)\n",
    "            \n",
    "        angle=ang(a,b,c)\n",
    "        if angle!=abs(angle):\n",
    "            angle=360+angle\n",
    "        if angle<min_angle:\n",
    "            min_point=i\n",
    "            min_angle=angle\n",
    "    m=min_point\n",
    "    #print(m)\n",
    "    if m==l[0]:\n",
    "        l.append(m)\n",
    "        flag=0\n",
    "print(l)\n",
    "convex_hull=copy.deepcopy(l)\n",
    "xs, ys = zip(*convex_hull) #create lists of x and y values\n",
    "plt.figure()\n",
    "plt.plot(xs,ys)\n",
    "for item in points:\n",
    "    plt.plot([item[0]],[item[1]],marker='o', markersize=3, color=\"red\")\n",
    "plt.show()\n",
    "\n",
    "        \n"
   ]
  },
  {
   "cell_type": "code",
   "execution_count": null,
   "metadata": {},
   "outputs": [],
   "source": []
  },
  {
   "cell_type": "code",
   "execution_count": null,
   "metadata": {},
   "outputs": [],
   "source": []
  }
 ],
 "metadata": {
  "kernelspec": {
   "display_name": "Python 3",
   "language": "python",
   "name": "python3"
  },
  "language_info": {
   "codemirror_mode": {
    "name": "ipython",
    "version": 3
   },
   "file_extension": ".py",
   "mimetype": "text/x-python",
   "name": "python",
   "nbconvert_exporter": "python",
   "pygments_lexer": "ipython3",
   "version": "3.7.3"
  }
 },
 "nbformat": 4,
 "nbformat_minor": 2
}
