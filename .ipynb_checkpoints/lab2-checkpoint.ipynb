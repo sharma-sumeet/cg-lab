{
 "cells": [
  {
   "cell_type": "code",
   "execution_count": 14,
   "metadata": {},
   "outputs": [],
   "source": [
    "import string\n",
    "import numpy as np\n",
    "import matplotlib.pyplot as plt\n",
    "import copy\n",
    "class Point:\n",
    "    \"\"\" Point Class \"\"\"\n",
    " \n",
    "    def __init__(self, xcoord, ycoord):\n",
    "        self.x = xcoord\n",
    "        self.y = ycoord\n",
    " \n",
    "    @classmethod\n",
    "    def input_point(point):\n",
    "        \"\"\" Takes X-Coord and Y-Coord from user to form a point \"\"\"\n",
    "        return point(\n",
    "            int(input('  X-Coord: ')),\n",
    "            int(input('  Y-Coord: ')),\n",
    "        )\n",
    " \n",
    "    def __str__(self):\n",
    "        \"\"\" Displays point's coordinates \"\"\"\n",
    "        return \"(\" + str(self.x) + \", \" + str(self.y) + \")\"\n",
    " \n",
    "\n",
    " \n",
    "def dir(A,B,P):\n",
    "    #print(A,B,P)\n",
    "    c=copy.deepcopy(B)\n",
    "    d=copy.deepcopy(P)\n",
    "    c.x -= A.x \n",
    "    c.y -= A.y \n",
    "    d.x -= A.x \n",
    "    d.y -= A.y \n",
    "    #print(c,d)\n",
    "    ' Determining cross Product '\n",
    "    cross_product = c.x * d.y - c.y * d.x  \n",
    "    #print(cross_product)\n",
    "    if (cross_product > 0): \n",
    "        return 1\n",
    "    elif (cross_product < 0): \n",
    "        return -1\n",
    "    else:\n",
    "        return 0\n",
    "\n",
    "def Checkintersection(A,B,C,D):\n",
    "    #print(A,B,C,D)\n",
    "    if (dir(A,B,C)==0):\n",
    "            #print(dir(A,B,C))\n",
    "            #print(A,B,C)\n",
    "            if ((A.x<=C.x and C.x<=B.x)and (A.y<=C.y and C.y<=B.y)):\n",
    "                print(\"Line Segments\",A,B,\"and\",C,D,\"intersect improper intersection\")\n",
    "            elif (dir(A,B,D)==0 and D.x>=A.x):\n",
    "                print(\"Line Segments\",A,B,\"and\",C,D,\"intersect improper intersection\")\n",
    "            else:\n",
    "                print(\"Line Segments\",A,B,\"and\",C,D,\"donot intersect \")\n",
    "                \n",
    "    elif (dir(A,B,D)==0):\n",
    "            if ((A.x<=D.x and D.x<=B.x)and (A.y<=D.y and D.y<=B.y)):\n",
    "                print(\"Line Segments\",A,B,\"and\",C,D,\"intersect improper intersection\")\n",
    "            else:\n",
    "                print(\"Line Segments\",A,B,\"and\",C,D,\"donot intersect \")\n",
    "    \n",
    "                \n",
    "    elif ((dir(A,B,C)!=dir(A,B,D)) and (dir(C,D,A)!=dir(C,D,B))):\n",
    "        print(\"1 Line Segments\",A,B,\"and\",C,D,\"intersect proper intersection\")\n",
    "        \n",
    "    elif (dir(A,B,C)==dir(A,B,D)):\n",
    "        print(\"Line Segments\",A,B,\"and\",C,D,\"donot intersect \")\n",
    "        \n",
    "    else:\n",
    "        print(\"none\")\n",
    "        \n",
    "def directionOfPoint(A,B,P):\n",
    "    c=copy.deepcopy(B)\n",
    "    c.x -= A.x \n",
    "    c.y -= A.y \n",
    "    P.x -= A.x \n",
    "    P.y -= A.y \n",
    "    #print(c,P)\n",
    "    ' Determining cross Product '\n",
    "    cross_product = c.x * P.y - c.y * P.x    \n",
    "    if (cross_product > 0): \n",
    "        print(\"left turn so area is positive\\t\",cross_product/2,\"\\twith line segment\",A,B)\n",
    "    elif (cross_product < 0): \n",
    "        print(\"right turn so area is negative\\t\",cross_product/2,\"\\twith line segment\",A,B)\n",
    "    else:\n",
    "        print(\"colinear area\\t\",cross_product/2,\"\\twith line segment\",A,B)\n",
    "           \n"
   ]
  },
  {
   "cell_type": "code",
   "execution_count": 15,
   "metadata": {},
   "outputs": [
    {
     "name": "stdout",
     "output_type": "stream",
     "text": [
      "[10, 20, 20, 20, 15, 20, 30, 20, 5, 10, 15, 30, 30, 30]\n",
      "\n",
      "Enter Query Point\n",
      "(10, 20) (20, 20) (15, 20)\n",
      "colinear area\t 0.0 \twith line segment (10, 20) (20, 20)\n",
      "\n",
      "Enter Query Point\n",
      "(10, 20) (20, 20) (30, 20)\n",
      "colinear area\t 0.0 \twith line segment (10, 20) (20, 20)\n",
      "\n",
      "Enter Query Point\n",
      "(10, 20) (20, 20) (5, 10)\n",
      "right turn so area is negative\t -50.0 \twith line segment (10, 20) (20, 20)\n",
      "\n",
      "Enter Query Point\n",
      "(10, 20) (20, 20) (15, 30)\n",
      "left turn so area is positive\t 50.0 \twith line segment (10, 20) (20, 20)\n",
      "\n",
      "Enter Query Point\n",
      "(10, 20) (20, 20) (30, 30)\n",
      "left turn so area is positive\t 50.0 \twith line segment (10, 20) (20, 20)\n"
     ]
    }
   ],
   "source": [
    "infile=open('linepoint.txt', 'r')\n",
    "cord = infile.read().split(' ')\n",
    "cord = list(map(int, cord))\n",
    "print(cord)\n",
    "start_point=Point(cord[0],cord[1])\n",
    "terminal_point=Point(cord[2],cord[3])\n",
    "i=4\n",
    "while i in range (4,len(cord)):\n",
    "        print(\"\\nEnter Query Point\")\n",
    "        query_point = Point(cord[i],cord[i+1])\n",
    "        print(start_point, terminal_point, query_point)\n",
    "        directionOfPoint(start_point, terminal_point, query_point)\n",
    "        i=i+2\n"
   ]
  },
  {
   "cell_type": "code",
   "execution_count": 17,
   "metadata": {},
   "outputs": [
    {
     "name": "stdout",
     "output_type": "stream",
     "text": [
      "[10, 20, 20, 20, 1, 20, 9, 20]\n",
      "4\n"
     ]
    },
    {
     "ename": "NameError",
     "evalue": "name 'a' is not defined",
     "output_type": "error",
     "traceback": [
      "\u001b[1;31m---------------------------------------------------------------------------\u001b[0m",
      "\u001b[1;31mNameError\u001b[0m                                 Traceback (most recent call last)",
      "\u001b[1;32m<ipython-input-17-4fcdea1f0de8>\u001b[0m in \u001b[0;36m<module>\u001b[1;34m\u001b[0m\n\u001b[0;32m     13\u001b[0m         \u001b[0mY\u001b[0m\u001b[1;33m=\u001b[0m\u001b[0mcopy\u001b[0m\u001b[1;33m.\u001b[0m\u001b[0mdeepcopy\u001b[0m\u001b[1;33m(\u001b[0m\u001b[0mterminal_point1\u001b[0m\u001b[1;33m)\u001b[0m\u001b[1;33m\u001b[0m\u001b[1;33m\u001b[0m\u001b[0m\n\u001b[0;32m     14\u001b[0m         \u001b[1;31m#print(X,Y,start_point2,terminal_point2)\u001b[0m\u001b[1;33m\u001b[0m\u001b[1;33m\u001b[0m\u001b[1;33m\u001b[0m\u001b[0m\n\u001b[1;32m---> 15\u001b[1;33m         \u001b[0mCheckintersection\u001b[0m\u001b[1;33m(\u001b[0m\u001b[0mX\u001b[0m\u001b[1;33m,\u001b[0m\u001b[0mY\u001b[0m\u001b[1;33m,\u001b[0m\u001b[0mstart_point2\u001b[0m\u001b[1;33m,\u001b[0m\u001b[0mterminal_point2\u001b[0m\u001b[1;33m)\u001b[0m\u001b[1;33m\u001b[0m\u001b[1;33m\u001b[0m\u001b[0m\n\u001b[0m\u001b[0;32m     16\u001b[0m         \u001b[0mi\u001b[0m\u001b[1;33m=\u001b[0m\u001b[0mi\u001b[0m\u001b[1;33m+\u001b[0m\u001b[1;36m4\u001b[0m\u001b[1;33m\u001b[0m\u001b[1;33m\u001b[0m\u001b[0m\n\u001b[0;32m     17\u001b[0m \u001b[1;33m\u001b[0m\u001b[0m\n",
      "\u001b[1;32m<ipython-input-14-8212720a4ce3>\u001b[0m in \u001b[0;36mCheckintersection\u001b[1;34m(A, B, C, D)\u001b[0m\n\u001b[0;32m     50\u001b[0m             \u001b[1;32mif\u001b[0m \u001b[1;33m(\u001b[0m\u001b[1;33m(\u001b[0m\u001b[0mA\u001b[0m\u001b[1;33m.\u001b[0m\u001b[0mx\u001b[0m\u001b[1;33m<=\u001b[0m\u001b[0mC\u001b[0m\u001b[1;33m.\u001b[0m\u001b[0mx\u001b[0m \u001b[1;32mand\u001b[0m \u001b[0mC\u001b[0m\u001b[1;33m.\u001b[0m\u001b[0mx\u001b[0m\u001b[1;33m<=\u001b[0m\u001b[0mB\u001b[0m\u001b[1;33m.\u001b[0m\u001b[0mx\u001b[0m\u001b[1;33m)\u001b[0m\u001b[1;32mand\u001b[0m \u001b[1;33m(\u001b[0m\u001b[0mA\u001b[0m\u001b[1;33m.\u001b[0m\u001b[0my\u001b[0m\u001b[1;33m<=\u001b[0m\u001b[0mC\u001b[0m\u001b[1;33m.\u001b[0m\u001b[0my\u001b[0m \u001b[1;32mand\u001b[0m \u001b[0mC\u001b[0m\u001b[1;33m.\u001b[0m\u001b[0my\u001b[0m\u001b[1;33m<=\u001b[0m\u001b[0mB\u001b[0m\u001b[1;33m.\u001b[0m\u001b[0my\u001b[0m\u001b[1;33m)\u001b[0m\u001b[1;33m)\u001b[0m\u001b[1;33m:\u001b[0m\u001b[1;33m\u001b[0m\u001b[1;33m\u001b[0m\u001b[0m\n\u001b[0;32m     51\u001b[0m                 \u001b[0mprint\u001b[0m\u001b[1;33m(\u001b[0m\u001b[1;34m\"Line Segments\"\u001b[0m\u001b[1;33m,\u001b[0m\u001b[0mA\u001b[0m\u001b[1;33m,\u001b[0m\u001b[0mB\u001b[0m\u001b[1;33m,\u001b[0m\u001b[1;34m\"and\"\u001b[0m\u001b[1;33m,\u001b[0m\u001b[0mC\u001b[0m\u001b[1;33m,\u001b[0m\u001b[0mD\u001b[0m\u001b[1;33m,\u001b[0m\u001b[1;34m\"intersect improper intersection\"\u001b[0m\u001b[1;33m)\u001b[0m\u001b[1;33m\u001b[0m\u001b[1;33m\u001b[0m\u001b[0m\n\u001b[1;32m---> 52\u001b[1;33m             \u001b[1;32melif\u001b[0m \u001b[1;33m(\u001b[0m\u001b[0mdir\u001b[0m\u001b[1;33m(\u001b[0m\u001b[0mA\u001b[0m\u001b[1;33m,\u001b[0m\u001b[0mB\u001b[0m\u001b[1;33m,\u001b[0m\u001b[0mD\u001b[0m\u001b[1;33m)\u001b[0m\u001b[1;33m==\u001b[0m\u001b[1;36m0\u001b[0m \u001b[1;32mand\u001b[0m \u001b[0mD\u001b[0m\u001b[1;33m.\u001b[0m\u001b[0mx\u001b[0m\u001b[1;33m>=\u001b[0m\u001b[0ma\u001b[0m\u001b[1;33m.\u001b[0m\u001b[0mx\u001b[0m\u001b[1;33m)\u001b[0m\u001b[1;33m:\u001b[0m\u001b[1;33m\u001b[0m\u001b[1;33m\u001b[0m\u001b[0m\n\u001b[0m\u001b[0;32m     53\u001b[0m                 \u001b[0mprint\u001b[0m\u001b[1;33m(\u001b[0m\u001b[1;34m\"Line Segments\"\u001b[0m\u001b[1;33m,\u001b[0m\u001b[0mA\u001b[0m\u001b[1;33m,\u001b[0m\u001b[0mB\u001b[0m\u001b[1;33m,\u001b[0m\u001b[1;34m\"and\"\u001b[0m\u001b[1;33m,\u001b[0m\u001b[0mC\u001b[0m\u001b[1;33m,\u001b[0m\u001b[0mD\u001b[0m\u001b[1;33m,\u001b[0m\u001b[1;34m\"intersect improper intersection\"\u001b[0m\u001b[1;33m)\u001b[0m\u001b[1;33m\u001b[0m\u001b[1;33m\u001b[0m\u001b[0m\n\u001b[0;32m     54\u001b[0m             \u001b[1;32melse\u001b[0m\u001b[1;33m:\u001b[0m\u001b[1;33m\u001b[0m\u001b[1;33m\u001b[0m\u001b[0m\n",
      "\u001b[1;31mNameError\u001b[0m: name 'a' is not defined"
     ]
    }
   ],
   "source": [
    "infile=open('lineline.txt', 'r')\n",
    "cord = infile.read().split(' ')\n",
    "cord = list(map(int, cord))\n",
    "print(cord)\n",
    "start_point1=Point(cord[0],cord[1])\n",
    "terminal_point1=Point(cord[2],cord[3])\n",
    "i=4\n",
    "while i in range(4,len(cord)):\n",
    "        print(i)\n",
    "        start_point2 = Point(cord[i],cord[i+1])\n",
    "        terminal_point2 = Point(cord[i+2],cord[i+3])\n",
    "        X=copy.deepcopy(start_point1)\n",
    "        Y=copy.deepcopy(terminal_point1)\n",
    "        #print(X,Y,start_point2,terminal_point2)\n",
    "        Checkintersection(X,Y,start_point2,terminal_point2)\n",
    "        i=i+4\n",
    "        \n",
    "    \n",
    "print(\"\\nDONE.\\n\")\n"
   ]
  },
  {
   "cell_type": "code",
   "execution_count": null,
   "metadata": {},
   "outputs": [],
   "source": []
  },
  {
   "cell_type": "code",
   "execution_count": null,
   "metadata": {},
   "outputs": [],
   "source": []
  },
  {
   "cell_type": "code",
   "execution_count": null,
   "metadata": {},
   "outputs": [],
   "source": []
  }
 ],
 "metadata": {
  "kernelspec": {
   "display_name": "Python 3",
   "language": "python",
   "name": "python3"
  },
  "language_info": {
   "codemirror_mode": {
    "name": "ipython",
    "version": 3
   },
   "file_extension": ".py",
   "mimetype": "text/x-python",
   "name": "python",
   "nbconvert_exporter": "python",
   "pygments_lexer": "ipython3",
   "version": "3.7.3"
  }
 },
 "nbformat": 4,
 "nbformat_minor": 2
}
