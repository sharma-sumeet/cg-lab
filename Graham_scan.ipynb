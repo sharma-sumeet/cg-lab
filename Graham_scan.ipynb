{
 "cells": [
  {
   "cell_type": "code",
   "execution_count": 1,
   "metadata": {},
   "outputs": [],
   "source": [
    "import string\n",
    "import numpy as np\n",
    "import matplotlib.pyplot as plt\n",
    "import copy\n",
    "class Point:\n",
    "    \"\"\" Point Class \"\"\"\n",
    " \n",
    "    def __init__(self, xcoord, ycoord):\n",
    "        self.x = xcoord\n",
    "        self.y = ycoord\n",
    "        \n",
    "    def __init__(self,tup):\n",
    "        self.x=tup[0]\n",
    "        self.y=tup[1]\n",
    " \n",
    "    @classmethod\n",
    "    def input_point(point):\n",
    "        \"\"\" Takes X-Coord and Y-Coord from user to form a point \"\"\"\n",
    "        return point(\n",
    "            int(input('  X-Coord: ')),\n",
    "            int(input('  Y-Coord: ')),\n",
    "        )\n",
    " \n",
    "    def __str__(self):\n",
    "        \"\"\" Displays point's coordinates \"\"\"\n",
    "        return \"(\" + str(self.x) + \", \" + str(self.y) + \")\"\n"
   ]
  },
  {
   "cell_type": "code",
   "execution_count": 2,
   "metadata": {},
   "outputs": [],
   "source": [
    "def dir(A,B,P):\n",
    "    #print(A,B,P)\n",
    "    c=copy.deepcopy(B)\n",
    "    d=copy.deepcopy(P)\n",
    "    c.x -= A.x \n",
    "    c.y -= A.y \n",
    "    d.x -= A.x \n",
    "    d.y -= A.y \n",
    "    #print(c,d)\n",
    "    ' Determining cross Product '\n",
    "    cross_product = c.x * d.y - c.y * d.x  \n",
    "    #print(cross_product)\n",
    "    if (cross_product > 0): \n",
    "        return 1\n",
    "    elif (cross_product < 0): \n",
    "        return -1\n",
    "    else:\n",
    "        return 0\n"
   ]
  },
  {
   "cell_type": "code",
   "execution_count": 3,
   "metadata": {},
   "outputs": [
    {
     "name": "stdout",
     "output_type": "stream",
     "text": [
      "(20, 10)\n",
      "[(20, 10), (35, 25), (40, 40), (30, 50), (10, 45)]\n"
     ]
    },
    {
     "data": {
      "image/png": "[encoded data removed]",
      "text/plain": [
       "<Figure size 432x288 with 1 Axes>"
      ]
     },
     "metadata": {
      "needs_background": "light"
     },
     "output_type": "display_data"
    }
   ],
   "source": [
    "import math\n",
    "i=2\n",
    "infile=open('u.txt', 'r')\n",
    "cord = infile.read().split(' ')\n",
    "cord = list(map(int, cord))\n",
    "points=[tuple(cord[z: z + 2]) for z in range(0, len(cord), 2)]\n",
    "cent=min(points, key = lambda t: t[1])\n",
    "#print (cent)\n",
    "points.sort(key=lambda p: math.atan2(p[1]-cent[1],p[0]-cent[0]))\n",
    "print (points[0])\n",
    "#print(points)\n",
    "convex_hull=[]\n",
    "convex_hull.append(points[0])\n",
    "convex_hull.append(points[1])\n",
    "while(i<len(points)):\n",
    "    a=Point(convex_hull[-2])\n",
    "    b=Point(convex_hull[-1])\n",
    "    c=Point(points[i])\n",
    "    if dir(a,b,c)==1:\n",
    "        convex_hull.append(points[i])\n",
    "        i=i+1\n",
    "    else:\n",
    "        convex_hull.pop()\n",
    "print(convex_hull)\n",
    "convex_hull.append(convex_hull[0])\n",
    "xs, ys = zip(*convex_hull) #create lists of x and y values\n",
    "plt.figure()\n",
    "plt.plot(xs,ys)\n",
    "for item in points:\n",
    "    plt.plot([item[0]],[item[1]],marker='o', markersize=3, color=\"red\")\n",
    "plt.show()\n"
   ]
  },
  {
   "cell_type": "code",
   "execution_count": null,
   "metadata": {},
   "outputs": [],
   "source": []
  }
 ],
 "metadata": {
  "kernelspec": {
   "display_name": "Python 3",
   "language": "python",
   "name": "python3"
  },
  "language_info": {
   "codemirror_mode": {
    "name": "ipython",
    "version": 3
   },
   "file_extension": ".py",
   "mimetype": "text/x-python",
   "name": "python",
   "nbconvert_exporter": "python",
   "pygments_lexer": "ipython3",
   "version": "3.7.3"
  }
 },
 "nbformat": 4,
 "nbformat_minor": 2
}
